{
 "cells": [
  {
   "cell_type": "markdown",
   "id": "7a1c4399",
   "metadata": {},
   "source": [
    "# Import Dependencies"
   ]
  },
  {
   "cell_type": "code",
   "execution_count": 1,
   "id": "b945d2f6",
   "metadata": {},
   "outputs": [
    {
     "name": "stdout",
     "output_type": "stream",
     "text": [
      "Requirement already satisfied: tweepy in c:\\users\\mario\\anaconda3\\lib\\site-packages (4.12.1)\n",
      "Requirement already satisfied: requests-oauthlib<2,>=1.2.0 in c:\\users\\mario\\anaconda3\\lib\\site-packages (from tweepy) (1.3.1)\n",
      "Requirement already satisfied: requests<3,>=2.27.0 in c:\\users\\mario\\anaconda3\\lib\\site-packages (from tweepy) (2.27.1)\n",
      "Requirement already satisfied: oauthlib<4,>=3.2.0 in c:\\users\\mario\\anaconda3\\lib\\site-packages (from tweepy) (3.2.2)\n",
      "Requirement already satisfied: idna<4,>=2.5 in c:\\users\\mario\\anaconda3\\lib\\site-packages (from requests<3,>=2.27.0->tweepy) (3.3)\n",
      "Requirement already satisfied: charset-normalizer~=2.0.0 in c:\\users\\mario\\anaconda3\\lib\\site-packages (from requests<3,>=2.27.0->tweepy) (2.0.4)\n",
      "Requirement already satisfied: urllib3<1.27,>=1.21.1 in c:\\users\\mario\\anaconda3\\lib\\site-packages (from requests<3,>=2.27.0->tweepy) (1.26.9)\n",
      "Requirement already satisfied: certifi>=2017.4.17 in c:\\users\\mario\\anaconda3\\lib\\site-packages (from requests<3,>=2.27.0->tweepy) (2022.9.24)\n"
     ]
    }
   ],
   "source": [
    "!pip install tweepy"
   ]
  },
  {
   "cell_type": "code",
   "execution_count": 2,
   "id": "a7ab8d91",
   "metadata": {},
   "outputs": [
    {
     "name": "stdout",
     "output_type": "stream",
     "text": [
      "Requirement already satisfied: textblob in c:\\users\\mario\\anaconda3\\lib\\site-packages (0.17.1)\n",
      "Requirement already satisfied: nltk>=3.1 in c:\\users\\mario\\anaconda3\\lib\\site-packages (from textblob) (3.7)\n",
      "Requirement already satisfied: regex>=2021.8.3 in c:\\users\\mario\\anaconda3\\lib\\site-packages (from nltk>=3.1->textblob) (2022.3.15)\n",
      "Requirement already satisfied: click in c:\\users\\mario\\anaconda3\\lib\\site-packages (from nltk>=3.1->textblob) (8.0.4)\n",
      "Requirement already satisfied: joblib in c:\\users\\mario\\anaconda3\\lib\\site-packages (from nltk>=3.1->textblob) (1.2.0)\n",
      "Requirement already satisfied: tqdm in c:\\users\\mario\\anaconda3\\lib\\site-packages (from nltk>=3.1->textblob) (4.64.0)\n",
      "Requirement already satisfied: colorama in c:\\users\\mario\\anaconda3\\lib\\site-packages (from click->nltk>=3.1->textblob) (0.4.4)\n"
     ]
    }
   ],
   "source": [
    "!pip install textblob"
   ]
  },
  {
   "cell_type": "code",
   "execution_count": 3,
   "id": "d90d35b0",
   "metadata": {},
   "outputs": [],
   "source": [
    "import tweepy as tw\n",
    "import numpy as np\n",
    "import pandas as pd\n",
    "import seaborn as sns\n",
    "from matplotlib import pyplot as plt\n",
    "\n",
    "import re\n",
    "\n",
    "from textblob import TextBlob"
   ]
  },
  {
   "cell_type": "markdown",
   "id": "4582f589",
   "metadata": {},
   "source": [
    "# Authenticate to Twitter API"
   ]
  },
  {
   "cell_type": "code",
   "execution_count": 4,
   "id": "858b2ed6",
   "metadata": {},
   "outputs": [],
   "source": [
    "# Save keys\n",
    "bearer_token = ''        # Introduce your bearer token\n",
    "consumer_key = ''        # Introduce your API key\n",
    "consumer_secret = ''     # Introduce your API key secret\n",
    "access_token = ''        # Introduce your Acces token\n",
    "access_token_secret = '' # Introduce your Acces token secret"
   ]
  },
  {
   "cell_type": "code",
   "execution_count": 5,
   "id": "d916c9f4",
   "metadata": {},
   "outputs": [],
   "source": [
    "client = tw.Client(bearer_token=bearer_token, consumer_key=consumer_key, consumer_secret=consumer_secret,\n",
    "                  access_token=access_token, access_token_secret=access_token_secret)"
   ]
  },
  {
   "cell_type": "markdown",
   "id": "12b87740",
   "metadata": {},
   "source": [
    "# Get Tweets\n",
    "In this example we will perform a sentiment analysis on the video game League of Legends but it could be done on any other topic."
   ]
  },
  {
   "cell_type": "code",
   "execution_count": 6,
   "id": "aa9a84da",
   "metadata": {},
   "outputs": [],
   "source": [
    "hashtag = '#LeagueOfLegends'\n",
    "query = client.search_recent_tweets(query=hashtag, max_results=100)"
   ]
  },
  {
   "cell_type": "code",
   "execution_count": 7,
   "id": "b9b48735",
   "metadata": {},
   "outputs": [],
   "source": [
    "tweets = [{'Tweet':tweet['text']} for tweet in query[0]]"
   ]
  },
  {
   "cell_type": "code",
   "execution_count": 8,
   "id": "f044c44c",
   "metadata": {
    "scrolled": true
   },
   "outputs": [
    {
     "name": "stdout",
     "output_type": "stream",
     "text": [
      "[{'Tweet': '2023 intentando usar esta red social... Para empezar voy 4 - 1 en las placements del lol 😗\\n#LeagueOfLegends'}, {'Tweet': 'RT @DogSurplus: Pantheon🍞\\n\\nSpeedpainting\\n https://t.co/o0doQWEOpN \\n#lol #LeagueOfLegends #ArtofLegends https://t.co/pdv4JPYmng'}, {'Tweet': 'RT @Capta1n_Irel1a: Another sketch 🥀🍃\\n#Ahri #Ahriasu #LeagueOfLegends #fanart https://t.co/7KHMBKnu0l'}, {'Tweet': 'RT @that_maskey: Caitlyn strip game starts now, go!\\n\\n4K: https://t.co/TU2n0lIz3w\\nDownload: https://t.co/s1XKPIcBl7\\n\\nCaitlyn model by @Memz3…'}, {'Tweet': 'RT @that_maskey: Caitlyn strip game starts now, go!\\n\\n4K: https://t.co/TU2n0lIz3w\\nDownload: https://t.co/s1XKPIcBl7\\n\\nCaitlyn model by @Memz3…'}, {'Tweet': 'RT @odeko_yma: A message that every jungler has to the toplaner💕\\n\\n💖💖💖\\n\\n#Kayn #Sett #LeagueOfLegends #LeagueOfLegendsFanArt https://t.co/3lZ…'}, {'Tweet': 'RT @Koyamamichiru: You got me~\\n#LeagueOfLegends https://t.co/3hN18AvGOf'}, {'Tweet': 'RT @KakitoOficial: La cinemática de #LeagueOfLegends #RIOT mejoro con ponerle los diálogos de Pantheon B) https://t.co/0vrrl4rjUI'}, {'Tweet': 'RT @N_I_X_E_U: Gold &amp; Red\\n#LeagueOfLegends #ahri \\n⋗https://t.co/eWo50Mm2Bd\\n⋗https://t.co/cBDCXdgudf https://t.co/5Qhvly79oZ'}, {'Tweet': 'RT @LaSungaDeAatrox: How the planning for the Season 13 cinematic trailer really went\\n\\n#LeagueOfLegends https://t.co/zF97Ji3kxY'}, {'Tweet': 'RT @Sanda_sielin: (1/6) \\nStarting the six fanart challenge with Samira \\n\\n#SixFanartsChallenge #SixFanarts #LeagueOfLegends #ArtofLegends #S…'}, {'Tweet': 'RT @Sanda_sielin: (1/6) \\nStarting the six fanart challenge with Samira \\n\\n#SixFanartsChallenge #SixFanarts #LeagueOfLegends #ArtofLegends #S…'}, {'Tweet': 'RT @Shoriko21: I love them) #art #LeagueOfLegends #settphelios https://t.co/bKQRtCdyfn'}, {'Tweet': 'RT @Sanda_sielin: (1/6) \\nStarting the six fanart challenge with Samira \\n\\n#SixFanartsChallenge #SixFanarts #LeagueOfLegends #ArtofLegends #S…'}, {'Tweet': 'RT @Sanda_sielin: (1/6) \\nStarting the six fanart challenge with Samira \\n\\n#SixFanartsChallenge #SixFanarts #LeagueOfLegends #ArtofLegends #S…'}, {'Tweet': 'RT @arteapotstudio: 🔮THE STARS HAVE SPOKEN!\\nSee what League has in store for you in this 2022 depending on your League Zodiac Sign ✨\\n(1/3)…'}, {'Tweet': 'RT @Sanda_sielin: (1/6) \\nStarting the six fanart challenge with Samira \\n\\n#SixFanartsChallenge #SixFanarts #LeagueOfLegends #ArtofLegends #S…'}, {'Tweet': 'RT @OfFutanari: Did she charm you ?\\n#Ahri #leagueoflegends #lol #hentai #porn #futanari #futa https://t.co/AQQoFbtscz'}, {'Tweet': 'RT @s0ng_y_w05: 열덟 트윗 케일나르\\n#LeagueOfLegends #Kayle #Gnar #리그오브레전드 #케일 #나르 https://t.co/VvyJF6u2qd'}, {'Tweet': 'RT @ilovemysupp: La primera parte de la Temporada 2023, con el nuevo sistema de Puntos de Temporada, oficialmente ha comenzado con la versi…'}, {'Tweet': 'RT @JJAKE_0127: #100日チャレンジ \\n#LeagueOfLegends \\n#LeagueOfLegendsFanArt \\n#Gwen\\nDAY3 https://t.co/99PUKzJjns'}, {'Tweet': 'RT @that_maskey: Caitlyn strip game starts now, go!\\n\\n4K: https://t.co/TU2n0lIz3w\\nDownload: https://t.co/s1XKPIcBl7\\n\\nCaitlyn model by @Memz3…'}, {'Tweet': 'RT @miemiemya: てふてのちびぐうぇんちゃんかわいすぎたのでかいた\\n#LeagueOfLegends \\n#ArtofLegends  \\n#Gwen #TFT https://t.co/tBxTRsZj20'}, {'Tweet': 'RT @jinx_shaco: Evelynn x Seraphine\\n\\nAlso find it on:\\nhttps://t.co/KnYp4qcyUL\\n@porn3dx \\n\\nModels by @Memz3D \\nRoom by @AngryKarakuri\\n\\n#League…'}, {'Tweet': 'RT @GurvirShinda: Pool Party Qiyana 😋🍫🏖️\\n\\nAll things considered, her bratty nature really grew on me🥰\\n\\nAlts, Battle-Boss Recolor: https://t…'}, {'Tweet': 'So, considering that after 5 games I have 42 SP, and Silver- players get the victorious skin at 1600, those poor hardstuck souls will have to play about 200 games to get it🤣 #LeagueOfLegends'}, {'Tweet': 'RT @NeekoNeekoNiii: New Season Grind! #leagueoflegends #neeko #vtuber https://t.co/UfL0w3zhhp'}, {'Tweet': 'RT @lewdvelli: [Commission] Shyvana got in trouble?\\n\\n#LeagueOfLegends #LeagueOfLegendsFanArt  #Shyvana https://t.co/4Gwh9b2IXj'}, {'Tweet': '#LeagueOfLegends #LeagueOfLegendsFanArt #lol #viral https://t.co/uUMjTAvr1U'}, {'Tweet': 'RT @Capta1n_Irel1a: Midnight Ahri wip 😶\\u200d🌫️\\n#Ahri #art #LeagueOfLegends #ahriasu https://t.co/fKBp1XZJma'}, {'Tweet': 'RT @sungmoomoo: [Arcane fanart]\\n#arcanefanart #Jinx #LeagueOfLegends https://t.co/8mS5EHS9BC'}, {'Tweet': 'RT @raidasart: hello sorry for not posting, here is some uni work :) #ahri #LeagueOfLegends https://t.co/RP9CJEijVw'}, {'Tweet': \"RT @Coomb0t3D: Leblanc model will probably be available for download soon. Here's a neato loop in the meantime, possibly due for a sequel ;…\"}, {'Tweet': 'RT @Sanda_sielin: (1/6) \\nStarting the six fanart challenge with Samira \\n\\n#SixFanartsChallenge #SixFanarts #LeagueOfLegends #ArtofLegends #S…'}, {'Tweet': 'RT @that_maskey: Caitlyn strip game starts now, go!\\n\\n4K: https://t.co/TU2n0lIz3w\\nDownload: https://t.co/s1XKPIcBl7\\n\\nCaitlyn model by @Memz3…'}, {'Tweet': 'RT @that_maskey: Caitlyn strip game starts now, go!\\n\\n4K: https://t.co/TU2n0lIz3w\\nDownload: https://t.co/s1XKPIcBl7\\n\\nCaitlyn model by @Memz3…'}, {'Tweet': 'RT @Terence_Cantal: Here’s Popstar Ahri for #LeagueOfLegends ! This was my first skin I bought like 10 years ago so it meant a ton for me t…'}, {'Tweet': 'RT @Lcfz01: So... Beeko skin?\\n\\n#leagueoflegends #ArtofLegends https://t.co/DN5L9THgwO'}, {'Tweet': \"RT @Coomb0t3D: Leblanc model will probably be available for download soon. Here's a neato loop in the meantime, possibly due for a sequel ;…\"}, {'Tweet': 'RT @matheusnavari: https://t.co/Uy7ninKOOe on &lt;3 #lol #LeagueOfLegends #md10 #twitch #twitchtv'}, {'Tweet': 'https://t.co/Uy7ninKOOe on &lt;3 #lol #LeagueOfLegends #md10 #twitch #twitchtv'}, {'Tweet': 'RT @_awaken_mylove: Spellthief \\n\\n#lightcannon #jinx #lux #leagueoflegends https://t.co/rCOnzKU0Ql'}, {'Tweet': 'RT @Capta1n_Irel1a: Another sketch 🥀🍃\\n#Ahri #Ahriasu #LeagueOfLegends #fanart https://t.co/7KHMBKnu0l'}, {'Tweet': 'Terminei a md10 guys, Nossa jornada pro cblol vai começar no d3 24pdl BORA QUE BORA #LeagueOfLegends https://t.co/q1FuqrlT4U'}, {'Tweet': '▶️ League of Legends - Top streams a las 16:31 (Hora ESP)🔥\\n\\n🥇 #knekro➖Viewers: 6.926\\n🥈 #ElmiilloR➖Viewers: 5.841\\n🥉 #Werlyb➖Viewers: 4.316\\n4) Esportmaniacos➖Viewers: 3.326\\n5) Th3Antonio➖Viewers: 3.041\\n\\n#Twitch #Streamers #LeagueofLegends'}, {'Tweet': 'RT @that_maskey: Caitlyn strip game starts now, go!\\n\\n4K: https://t.co/TU2n0lIz3w\\nDownload: https://t.co/s1XKPIcBl7\\n\\nCaitlyn model by @Memz3…'}, {'Tweet': 'RT @ilovemysupp: La primera parte de la Temporada 2023, con el nuevo sistema de Puntos de Temporada, oficialmente ha comenzado con la versi…'}, {'Tweet': 'Take that #Warwick #LeagueOfLegends #riotgames #twitchstreamer https://t.co/bM33cAumtt'}, {'Tweet': 'RT @that_maskey: Caitlyn strip game starts now, go!\\n\\n4K: https://t.co/TU2n0lIz3w\\nDownload: https://t.co/s1XKPIcBl7\\n\\nCaitlyn model by @Memz3…'}, {'Tweet': 'RT @Sanda_sielin: (1/6) \\nStarting the six fanart challenge with Samira \\n\\n#SixFanartsChallenge #SixFanarts #LeagueOfLegends #ArtofLegends #S…'}, {'Tweet': 'RT @that_maskey: Cait x Vi commission 1\\n\\nImage commissioned by @Sychosymattic\\n\\n4k: https://t.co/y1s3J3MSiK\\nDownload: https://t.co/jmD4Pksg0…'}, {'Tweet': 'RT @Sanda_sielin: (1/6) \\nStarting the six fanart challenge with Samira \\n\\n#SixFanartsChallenge #SixFanarts #LeagueOfLegends #ArtofLegends #S…'}, {'Tweet': \"RT @jujumaho1997: #LeagueOfLegends Renata's working hours☕ https://t.co/WIDfCyCBXW\"}, {'Tweet': 'new #LeagueOfLegends season is live! Come watch me get placed bronze! https://t.co/6fHG9g9QDK #TwitchAffliate #gaming'}, {'Tweet': 'RT @that_maskey: Caitlyn strip game starts now, go!\\n\\n4K: https://t.co/TU2n0lIz3w\\nDownload: https://t.co/s1XKPIcBl7\\n\\nCaitlyn model by @Memz3…'}, {'Tweet': 'RT @Sanda_sielin: (1/6) \\nStarting the six fanart challenge with Samira \\n\\n#SixFanartsChallenge #SixFanarts #LeagueOfLegends #ArtofLegends #S…'}, {'Tweet': 'RT @Nievezhitus: More Kindred (wip) \\n#Kindred #LeagueOfLegends https://t.co/CPmdlVo3Tx'}, {'Tweet': 'RT @that_maskey: Caitlyn strip game starts now, go!\\n\\n4K: https://t.co/TU2n0lIz3w\\nDownload: https://t.co/s1XKPIcBl7\\n\\nCaitlyn model by @Memz3…'}, {'Tweet': 'RT @metalichotchoco: The new kindred skin is wonderful, one small change I’d like to propose riot… \\n\\n#kindred #LeagueOfLegends #LeagueOfLeg…'}, {'Tweet': 'RT @that_maskey: Caitlyn strip game starts now, go!\\n\\n4K: https://t.co/TU2n0lIz3w\\nDownload: https://t.co/s1XKPIcBl7\\n\\nCaitlyn model by @Memz3…'}, {'Tweet': 'RT @Terence_Cantal: Here’s Popstar Ahri for #LeagueOfLegends ! This was my first skin I bought like 10 years ago so it meant a ton for me t…'}, {'Tweet': 'RT @ibonedrawhentai: I think is done…\\n.\\n\\n❤️ \\xa0\\xa0\\xa0\\xa0\\xa0 ≡ \\xa0\\xa0\\xa0\\xa0\\xa0 ➭\\xa0\\xa0\\xa0\\xa0⌂\\nᴸⁱᵏᵉ\\xa0 ᶜᵒᵐᵐᵉⁿᵗ  ˢʰᵃʳᵉ\\xa0\\xa0ˢᵃᵛᵉ\\n.\\n#ahri #LeagueOfLegends #LeagueOfLegendsFanArt…'}, {'Tweet': 'Legendák csapnak össze a színpadon, ne maradj le róla! 😉  #LeagueOfLegends #Season2023Kickoff https://t.co/p6ytVNxMbk'}, {'Tweet': 'RT @UZagI_XD: Waiting for ..\\n#kindred #LeagueOfLegends https://t.co/3lu81RdnBl'}, {'Tweet': 'RT @ilovemysupp: La primera parte de la Temporada 2023, con el nuevo sistema de Puntos de Temporada, oficialmente ha comenzado con la versi…'}, {'Tweet': 'RT @Sanda_sielin: (1/6) \\nStarting the six fanart challenge with Samira \\n\\n#SixFanartsChallenge #SixFanarts #LeagueOfLegends #ArtofLegends #S…'}, {'Tweet': '(1/6) \\nStarting the six fanart challenge with Samira \\n\\n#SixFanartsChallenge #SixFanarts #LeagueOfLegends #ArtofLegends #Samira #Noxus https://t.co/EbhBfPMcbd'}, {'Tweet': 'RT @that_maskey: Caitlyn strip game starts now, go!\\n\\n4K: https://t.co/TU2n0lIz3w\\nDownload: https://t.co/s1XKPIcBl7\\n\\nCaitlyn model by @Memz3…'}, {'Tweet': 'RT @AToMicicic: 早年画的拉克丝 #LeagueOfLegends #ArtofLegends #lux https://t.co/G13zUf1U4T'}, {'Tweet': 'RT @ConquerorMare: Riot enserio llevo a la basura todo el progreso que gano en estos años, muchos pensando que incluso por Arcane ellos se…'}, {'Tweet': 'RT @that_maskey: Caitlyn strip game starts now, go!\\n\\n4K: https://t.co/TU2n0lIz3w\\nDownload: https://t.co/s1XKPIcBl7\\n\\nCaitlyn model by @Memz3…'}, {'Tweet': 'RT @that_maskey: Caitlyn strip game starts now, go!\\n\\n4K: https://t.co/TU2n0lIz3w\\nDownload: https://t.co/s1XKPIcBl7\\n\\nCaitlyn model by @Memz3…'}, {'Tweet': 'RT @PhukArt: Graves x Twisted Fate 💞 \\n\\n#Graves #TwistedFate #bildgewater #LeagueOfLegends #bara #nsfw #3d #animated https://t.co/vG9WNaJb8C'}, {'Tweet': 'RT @adruu_502: Y cómo van con sus 10 partidas?\\n.\\n.\\n.\\n.\\n\\n#LeagueOfLegends #lol #season13 #caster #ranked #eSports #videogames https://t.co/7…'}, {'Tweet': 'RT @that_maskey: Caitlyn strip game starts now, go!\\n\\n4K: https://t.co/TU2n0lIz3w\\nDownload: https://t.co/s1XKPIcBl7\\n\\nCaitlyn model by @Memz3…'}, {'Tweet': 'RT @FanArtMelisek: PNGtuber dla KayleKayden ❤️\\nhttps://t.co/TUmLThUsKh\\n#leagueoflegends #kayle #pngtuber #vtuber #art #fanart #chibi #chibi…'}, {'Tweet': 'RT @Terence_Cantal: Here’s Popstar Ahri for #LeagueOfLegends ! This was my first skin I bought like 10 years ago so it meant a ton for me t…'}, {'Tweet': \"RT @SuccubaRossa: Since Riot didn't give us any quality Cinematic, I said FUCK IT made my own!!! (It's in my mind) (IT HAS MY OC IN IT!!!)…\"}, {'Tweet': 'RT @Capta1n_Irel1a: Midnight Ahri wip 😶\\u200d🌫️\\n#Ahri #art #LeagueOfLegends #ahriasu https://t.co/fKBp1XZJma'}, {'Tweet': 'RT @raidasart: hello sorry for not posting, here is some uni work :) #ahri #LeagueOfLegends https://t.co/RP9CJEijVw'}, {'Tweet': 'RT @GurvirShinda: Pool Party Qiyana 😋🍫🏖️\\n\\nAll things considered, her bratty nature really grew on me🥰\\n\\nAlts, Battle-Boss Recolor: https://t…'}, {'Tweet': '#LeagueofLegends | La temporada 2023 está a nada de llegar. ¡Ven a ver las novedades que trae! 🎮\\n\\n#btp #videojuegos #gaming #gamingnews #LOL #LeaguajeOfLegends #fyp #fypviral #pc #pcgaming #Wildrift #Riot #RiotGames https://t.co/sn2o03vLIC'}, {'Tweet': \"RT @cuteShyvana: Like and Rt if you love Jinx's undercity aesthetic ^~^ #LeagueofLegends #Arcane https://t.co/0otJykljwf\"}, {'Tweet': 'RT @FanArtMelisek: PNGtuber dla KayleKayden ❤️\\nhttps://t.co/TUmLThUsKh\\n#leagueoflegends #kayle #pngtuber #vtuber #art #fanart #chibi #chibi…'}, {'Tweet': 'RT @ibonedrawhentai: I think is done…\\n.\\n\\n❤️ \\xa0\\xa0\\xa0\\xa0\\xa0 ≡ \\xa0\\xa0\\xa0\\xa0\\xa0 ➭\\xa0\\xa0\\xa0\\xa0⌂\\nᴸⁱᵏᵉ\\xa0 ᶜᵒᵐᵐᵉⁿᵗ  ˢʰᵃʳᵉ\\xa0\\xa0ˢᵃᵛᵉ\\n.\\n#ahri #LeagueOfLegends #LeagueOfLegendsFanArt…'}, {'Tweet': 'RT @that_maskey: Caitlyn strip game starts now, go!\\n\\n4K: https://t.co/TU2n0lIz3w\\nDownload: https://t.co/s1XKPIcBl7\\n\\nCaitlyn model by @Memz3…'}, {'Tweet': \"I still have big faith in them tho, considering this is the biggest investment fund they have so far for #LeagueOfLegends, they'll get back on their feet from it. Just hope they'll be able to be more transparent this time around.\"}, {'Tweet': 'RT @devilsonline0: Ahri Flor Espiritual (Spirit Blossom) \\U0001fab7❤️\\u200d🔥\\n#LeagueOfLegendsFanArt #Ahri #LeagueOfLegends https://t.co/3fTMAPjKt7'}, {'Tweet': 'RT @that_maskey: Caitlyn strip game starts now, go!\\n\\n4K: https://t.co/TU2n0lIz3w\\nDownload: https://t.co/s1XKPIcBl7\\n\\nCaitlyn model by @Memz3…'}, {'Tweet': 'RT @that_maskey: Caitlyn strip game starts now, go!\\n\\n4K: https://t.co/TU2n0lIz3w\\nDownload: https://t.co/s1XKPIcBl7\\n\\nCaitlyn model by @Memz3…'}, {'Tweet': 'RT @esports12K: In 2022, more than 500 million @LeagueOfLegends games were played\\nCheckout the full story: https://t.co/VeMl0q0A7V\\n\\n#league…'}, {'Tweet': 'RT @BloodyNyuu: 👉 https://t.co/kFO0q8DeIp 👈\\n\\nPlacements in LoL, vielleicht 1-2 Runden Valo und dann Disney Dreamlight Valley 🥰💙 Kommt zum S…'}, {'Tweet': 'RT @Bleyzen404: This will be the cinematic of 2023\\n#LeagueOfLegends    \\n#ArtofLegends https://t.co/tOmd8FIGJh'}, {'Tweet': 'RT @raidasart: hello sorry for not posting, here is some uni work :) #ahri #LeagueOfLegends https://t.co/RP9CJEijVw'}, {'Tweet': '¿Todos los cofres de las nuevas recompensas de clasificatoria son así?\\nGracias @lol_es \\n\\nLas partidas me quitan la vida pero estos pequeños detalle me la dan \\n\\n#LeagueOfLegends\\n#RiotGames https://t.co/jO8asOmdsj'}, {'Tweet': 'RT @that_maskey: Caitlyn strip game starts now, go!\\n\\n4K: https://t.co/TU2n0lIz3w\\nDownload: https://t.co/s1XKPIcBl7\\n\\nCaitlyn model by @Memz3…'}, {'Tweet': 'RT @that_maskey: Neeko Commission 1\\n\\nImages were commissioned\\n\\n4k: https://t.co/94RuiELrtT\\nDownload: https://t.co/jmD4Pksg0P\\n\\nNeeko model b…'}, {'Tweet': 'RT @CreON_Art: JINX - ARCANE\\xa0\\n\\nOriginal artwork available for sale at https://t.co/WBQpOQuMCE (link in my bio).\\n\\n⚠️SUBSCRIBE AT https://t.c…'}, {'Tweet': 'Absolutely love them.😎😎😎😎😎 #LeagueOfLegendsFanArt #LeagueofLegends #ClashLoL #КосплейLoL #GuardiãsEstelares'}, {'Tweet': 'RT @odeko_yma: A message that every jungler has to the toplaner💕\\n\\n💖💖💖\\n\\n#Kayn #Sett #LeagueOfLegends #LeagueOfLegendsFanArt https://t.co/3lZ…'}]\n"
     ]
    }
   ],
   "source": [
    "print(tweets)"
   ]
  },
  {
   "cell_type": "code",
   "execution_count": 9,
   "id": "b5dfa116",
   "metadata": {},
   "outputs": [
    {
     "data": {
      "text/html": [
       "<div>\n",
       "<style scoped>\n",
       "    .dataframe tbody tr th:only-of-type {\n",
       "        vertical-align: middle;\n",
       "    }\n",
       "\n",
       "    .dataframe tbody tr th {\n",
       "        vertical-align: top;\n",
       "    }\n",
       "\n",
       "    .dataframe thead th {\n",
       "        text-align: right;\n",
       "    }\n",
       "</style>\n",
       "<table border=\"1\" class=\"dataframe\">\n",
       "  <thead>\n",
       "    <tr style=\"text-align: right;\">\n",
       "      <th></th>\n",
       "      <th>Tweet</th>\n",
       "    </tr>\n",
       "  </thead>\n",
       "  <tbody>\n",
       "    <tr>\n",
       "      <th>0</th>\n",
       "      <td>2023 intentando usar esta red social... Para e...</td>\n",
       "    </tr>\n",
       "    <tr>\n",
       "      <th>1</th>\n",
       "      <td>RT @DogSurplus: Pantheon🍞\\n\\nSpeedpainting\\n h...</td>\n",
       "    </tr>\n",
       "    <tr>\n",
       "      <th>2</th>\n",
       "      <td>RT @Capta1n_Irel1a: Another sketch 🥀🍃\\n#Ahri #...</td>\n",
       "    </tr>\n",
       "    <tr>\n",
       "      <th>3</th>\n",
       "      <td>RT @that_maskey: Caitlyn strip game starts now...</td>\n",
       "    </tr>\n",
       "    <tr>\n",
       "      <th>4</th>\n",
       "      <td>RT @that_maskey: Caitlyn strip game starts now...</td>\n",
       "    </tr>\n",
       "  </tbody>\n",
       "</table>\n",
       "</div>"
      ],
      "text/plain": [
       "                                               Tweet\n",
       "0  2023 intentando usar esta red social... Para e...\n",
       "1  RT @DogSurplus: Pantheon🍞\\n\\nSpeedpainting\\n h...\n",
       "2  RT @Capta1n_Irel1a: Another sketch 🥀🍃\\n#Ahri #...\n",
       "3  RT @that_maskey: Caitlyn strip game starts now...\n",
       "4  RT @that_maskey: Caitlyn strip game starts now..."
      ]
     },
     "execution_count": 9,
     "metadata": {},
     "output_type": "execute_result"
    }
   ],
   "source": [
    "df = pd.DataFrame.from_dict(tweets)\n",
    "df.head()"
   ]
  },
  {
   "cell_type": "markdown",
   "id": "928fbc09",
   "metadata": {},
   "source": [
    "# Prepare Tweets"
   ]
  },
  {
   "cell_type": "code",
   "execution_count": 10,
   "id": "bf85c1c0",
   "metadata": {},
   "outputs": [],
   "source": [
    "def clean_tw(tw):\n",
    "    tw = re.sub('#LeagueOfLegends', 'LeagueOfLegends', tw) # Remove the '#' from the hashtag\n",
    "    tw = re.sub('#[A-Za-z0-9]+', '', tw)                   # Remove any other hashtag\n",
    "    tw = re.sub('\\\\n', '', tw)                             # Remove '\\\\n' string\n",
    "    tw = re.sub('https?:\\/\\/\\S+', '', tw)                  # Remove hyperlinks\n",
    "    if tw[0:2] == 'RT':\n",
    "        end_index = tw.find(':') + 1\n",
    "        tw = tw[end_index:]                                # Remove the RT part from the tweet\n",
    "    return tw"
   ]
  },
  {
   "cell_type": "code",
   "execution_count": 11,
   "id": "10d60e44",
   "metadata": {},
   "outputs": [
    {
     "data": {
      "text/html": [
       "<div>\n",
       "<style scoped>\n",
       "    .dataframe tbody tr th:only-of-type {\n",
       "        vertical-align: middle;\n",
       "    }\n",
       "\n",
       "    .dataframe tbody tr th {\n",
       "        vertical-align: top;\n",
       "    }\n",
       "\n",
       "    .dataframe thead th {\n",
       "        text-align: right;\n",
       "    }\n",
       "</style>\n",
       "<table border=\"1\" class=\"dataframe\">\n",
       "  <thead>\n",
       "    <tr style=\"text-align: right;\">\n",
       "      <th></th>\n",
       "      <th>Tweet</th>\n",
       "      <th>Cleaned Tweet</th>\n",
       "    </tr>\n",
       "  </thead>\n",
       "  <tbody>\n",
       "    <tr>\n",
       "      <th>0</th>\n",
       "      <td>2023 intentando usar esta red social... Para e...</td>\n",
       "      <td>2023 intentando usar esta red social... Para e...</td>\n",
       "    </tr>\n",
       "    <tr>\n",
       "      <th>1</th>\n",
       "      <td>RT @DogSurplus: Pantheon🍞\\n\\nSpeedpainting\\n h...</td>\n",
       "      <td>Pantheon🍞Speedpainting   LeagueOfLegends</td>\n",
       "    </tr>\n",
       "    <tr>\n",
       "      <th>2</th>\n",
       "      <td>RT @Capta1n_Irel1a: Another sketch 🥀🍃\\n#Ahri #...</td>\n",
       "      <td>Another sketch 🥀🍃  LeagueOfLegends</td>\n",
       "    </tr>\n",
       "    <tr>\n",
       "      <th>3</th>\n",
       "      <td>RT @that_maskey: Caitlyn strip game starts now...</td>\n",
       "      <td>Caitlyn strip game starts now, go!4K:   model...</td>\n",
       "    </tr>\n",
       "    <tr>\n",
       "      <th>4</th>\n",
       "      <td>RT @that_maskey: Caitlyn strip game starts now...</td>\n",
       "      <td>Caitlyn strip game starts now, go!4K:   model...</td>\n",
       "    </tr>\n",
       "  </tbody>\n",
       "</table>\n",
       "</div>"
      ],
      "text/plain": [
       "                                               Tweet  \\\n",
       "0  2023 intentando usar esta red social... Para e...   \n",
       "1  RT @DogSurplus: Pantheon🍞\\n\\nSpeedpainting\\n h...   \n",
       "2  RT @Capta1n_Irel1a: Another sketch 🥀🍃\\n#Ahri #...   \n",
       "3  RT @that_maskey: Caitlyn strip game starts now...   \n",
       "4  RT @that_maskey: Caitlyn strip game starts now...   \n",
       "\n",
       "                                       Cleaned Tweet  \n",
       "0  2023 intentando usar esta red social... Para e...  \n",
       "1         Pantheon🍞Speedpainting   LeagueOfLegends    \n",
       "2               Another sketch 🥀🍃  LeagueOfLegends    \n",
       "3   Caitlyn strip game starts now, go!4K:   model...  \n",
       "4   Caitlyn strip game starts now, go!4K:   model...  "
      ]
     },
     "execution_count": 11,
     "metadata": {},
     "output_type": "execute_result"
    }
   ],
   "source": [
    "df['Cleaned Tweet'] = df['Tweet'].apply(clean_tw)\n",
    "\n",
    "df.head()"
   ]
  },
  {
   "cell_type": "code",
   "execution_count": 12,
   "id": "b69955fd",
   "metadata": {},
   "outputs": [],
   "source": [
    "def get_subjetivity(tw):\n",
    "    return TextBlob(tw).sentiment.subjectivity\n",
    "\n",
    "def get_polarity(tw):\n",
    "    return TextBlob(tw).sentiment.polarity"
   ]
  },
  {
   "cell_type": "code",
   "execution_count": 13,
   "id": "a1f4498a",
   "metadata": {},
   "outputs": [
    {
     "data": {
      "text/html": [
       "<div>\n",
       "<style scoped>\n",
       "    .dataframe tbody tr th:only-of-type {\n",
       "        vertical-align: middle;\n",
       "    }\n",
       "\n",
       "    .dataframe tbody tr th {\n",
       "        vertical-align: top;\n",
       "    }\n",
       "\n",
       "    .dataframe thead th {\n",
       "        text-align: right;\n",
       "    }\n",
       "</style>\n",
       "<table border=\"1\" class=\"dataframe\">\n",
       "  <thead>\n",
       "    <tr style=\"text-align: right;\">\n",
       "      <th></th>\n",
       "      <th>Tweet</th>\n",
       "      <th>Cleaned Tweet</th>\n",
       "      <th>Subjectivity</th>\n",
       "      <th>Polarity</th>\n",
       "    </tr>\n",
       "  </thead>\n",
       "  <tbody>\n",
       "    <tr>\n",
       "      <th>0</th>\n",
       "      <td>2023 intentando usar esta red social... Para e...</td>\n",
       "      <td>2023 intentando usar esta red social... Para e...</td>\n",
       "      <td>0.255556</td>\n",
       "      <td>0.277778</td>\n",
       "    </tr>\n",
       "    <tr>\n",
       "      <th>1</th>\n",
       "      <td>RT @DogSurplus: Pantheon🍞\\n\\nSpeedpainting\\n h...</td>\n",
       "      <td>Pantheon🍞Speedpainting   LeagueOfLegends</td>\n",
       "      <td>0.000000</td>\n",
       "      <td>0.000000</td>\n",
       "    </tr>\n",
       "    <tr>\n",
       "      <th>2</th>\n",
       "      <td>RT @Capta1n_Irel1a: Another sketch 🥀🍃\\n#Ahri #...</td>\n",
       "      <td>Another sketch 🥀🍃  LeagueOfLegends</td>\n",
       "      <td>0.000000</td>\n",
       "      <td>0.000000</td>\n",
       "    </tr>\n",
       "    <tr>\n",
       "      <th>3</th>\n",
       "      <td>RT @that_maskey: Caitlyn strip game starts now...</td>\n",
       "      <td>Caitlyn strip game starts now, go!4K:   model...</td>\n",
       "      <td>0.400000</td>\n",
       "      <td>-0.400000</td>\n",
       "    </tr>\n",
       "    <tr>\n",
       "      <th>4</th>\n",
       "      <td>RT @that_maskey: Caitlyn strip game starts now...</td>\n",
       "      <td>Caitlyn strip game starts now, go!4K:   model...</td>\n",
       "      <td>0.400000</td>\n",
       "      <td>-0.400000</td>\n",
       "    </tr>\n",
       "  </tbody>\n",
       "</table>\n",
       "</div>"
      ],
      "text/plain": [
       "                                               Tweet  \\\n",
       "0  2023 intentando usar esta red social... Para e...   \n",
       "1  RT @DogSurplus: Pantheon🍞\\n\\nSpeedpainting\\n h...   \n",
       "2  RT @Capta1n_Irel1a: Another sketch 🥀🍃\\n#Ahri #...   \n",
       "3  RT @that_maskey: Caitlyn strip game starts now...   \n",
       "4  RT @that_maskey: Caitlyn strip game starts now...   \n",
       "\n",
       "                                       Cleaned Tweet  Subjectivity  Polarity  \n",
       "0  2023 intentando usar esta red social... Para e...      0.255556  0.277778  \n",
       "1         Pantheon🍞Speedpainting   LeagueOfLegends        0.000000  0.000000  \n",
       "2               Another sketch 🥀🍃  LeagueOfLegends        0.000000  0.000000  \n",
       "3   Caitlyn strip game starts now, go!4K:   model...      0.400000 -0.400000  \n",
       "4   Caitlyn strip game starts now, go!4K:   model...      0.400000 -0.400000  "
      ]
     },
     "execution_count": 13,
     "metadata": {},
     "output_type": "execute_result"
    }
   ],
   "source": [
    "df['Subjectivity'] = df['Cleaned Tweet'].apply(get_subjetivity)\n",
    "df['Polarity'] = df['Cleaned Tweet'].apply(get_polarity)\n",
    "\n",
    "df.head()"
   ]
  },
  {
   "cell_type": "code",
   "execution_count": 14,
   "id": "cbb619ad",
   "metadata": {},
   "outputs": [],
   "source": [
    "def get_sentiment(score):\n",
    "    if score < 0:\n",
    "        return 'Negative'\n",
    "    if score == 0:\n",
    "        return 'Neutral'\n",
    "    else:\n",
    "        return 'Positive'"
   ]
  },
  {
   "cell_type": "code",
   "execution_count": 15,
   "id": "bc0b14f7",
   "metadata": {},
   "outputs": [
    {
     "data": {
      "text/html": [
       "<div>\n",
       "<style scoped>\n",
       "    .dataframe tbody tr th:only-of-type {\n",
       "        vertical-align: middle;\n",
       "    }\n",
       "\n",
       "    .dataframe tbody tr th {\n",
       "        vertical-align: top;\n",
       "    }\n",
       "\n",
       "    .dataframe thead th {\n",
       "        text-align: right;\n",
       "    }\n",
       "</style>\n",
       "<table border=\"1\" class=\"dataframe\">\n",
       "  <thead>\n",
       "    <tr style=\"text-align: right;\">\n",
       "      <th></th>\n",
       "      <th>Tweet</th>\n",
       "      <th>Cleaned Tweet</th>\n",
       "      <th>Subjectivity</th>\n",
       "      <th>Polarity</th>\n",
       "      <th>Sentiment</th>\n",
       "    </tr>\n",
       "  </thead>\n",
       "  <tbody>\n",
       "    <tr>\n",
       "      <th>0</th>\n",
       "      <td>2023 intentando usar esta red social... Para e...</td>\n",
       "      <td>2023 intentando usar esta red social... Para e...</td>\n",
       "      <td>0.255556</td>\n",
       "      <td>0.277778</td>\n",
       "      <td>Positive</td>\n",
       "    </tr>\n",
       "    <tr>\n",
       "      <th>1</th>\n",
       "      <td>RT @DogSurplus: Pantheon🍞\\n\\nSpeedpainting\\n h...</td>\n",
       "      <td>Pantheon🍞Speedpainting   LeagueOfLegends</td>\n",
       "      <td>0.000000</td>\n",
       "      <td>0.000000</td>\n",
       "      <td>Neutral</td>\n",
       "    </tr>\n",
       "    <tr>\n",
       "      <th>2</th>\n",
       "      <td>RT @Capta1n_Irel1a: Another sketch 🥀🍃\\n#Ahri #...</td>\n",
       "      <td>Another sketch 🥀🍃  LeagueOfLegends</td>\n",
       "      <td>0.000000</td>\n",
       "      <td>0.000000</td>\n",
       "      <td>Neutral</td>\n",
       "    </tr>\n",
       "    <tr>\n",
       "      <th>3</th>\n",
       "      <td>RT @that_maskey: Caitlyn strip game starts now...</td>\n",
       "      <td>Caitlyn strip game starts now, go!4K:   model...</td>\n",
       "      <td>0.400000</td>\n",
       "      <td>-0.400000</td>\n",
       "      <td>Negative</td>\n",
       "    </tr>\n",
       "    <tr>\n",
       "      <th>4</th>\n",
       "      <td>RT @that_maskey: Caitlyn strip game starts now...</td>\n",
       "      <td>Caitlyn strip game starts now, go!4K:   model...</td>\n",
       "      <td>0.400000</td>\n",
       "      <td>-0.400000</td>\n",
       "      <td>Negative</td>\n",
       "    </tr>\n",
       "  </tbody>\n",
       "</table>\n",
       "</div>"
      ],
      "text/plain": [
       "                                               Tweet  \\\n",
       "0  2023 intentando usar esta red social... Para e...   \n",
       "1  RT @DogSurplus: Pantheon🍞\\n\\nSpeedpainting\\n h...   \n",
       "2  RT @Capta1n_Irel1a: Another sketch 🥀🍃\\n#Ahri #...   \n",
       "3  RT @that_maskey: Caitlyn strip game starts now...   \n",
       "4  RT @that_maskey: Caitlyn strip game starts now...   \n",
       "\n",
       "                                       Cleaned Tweet  Subjectivity  Polarity  \\\n",
       "0  2023 intentando usar esta red social... Para e...      0.255556  0.277778   \n",
       "1         Pantheon🍞Speedpainting   LeagueOfLegends        0.000000  0.000000   \n",
       "2               Another sketch 🥀🍃  LeagueOfLegends        0.000000  0.000000   \n",
       "3   Caitlyn strip game starts now, go!4K:   model...      0.400000 -0.400000   \n",
       "4   Caitlyn strip game starts now, go!4K:   model...      0.400000 -0.400000   \n",
       "\n",
       "  Sentiment  \n",
       "0  Positive  \n",
       "1   Neutral  \n",
       "2   Neutral  \n",
       "3  Negative  \n",
       "4  Negative  "
      ]
     },
     "execution_count": 15,
     "metadata": {},
     "output_type": "execute_result"
    }
   ],
   "source": [
    "df['Sentiment'] = df['Polarity'].apply(get_sentiment)\n",
    "\n",
    "df.head()"
   ]
  },
  {
   "cell_type": "markdown",
   "id": "48826efa",
   "metadata": {},
   "source": [
    "# Visualize Results"
   ]
  },
  {
   "cell_type": "code",
   "execution_count": 16,
   "id": "fa745c93",
   "metadata": {},
   "outputs": [
    {
     "data": {
      "image/png": "[encoded data removed]",
      "text/plain": [
       "<Figure size 576x432 with 1 Axes>"
      ]
     },
     "metadata": {
      "needs_background": "light"
     },
     "output_type": "display_data"
    }
   ],
   "source": [
    "plt.figure(figsize=(8,6))\n",
    "for i in range(0, df.shape[0]):\n",
    "    plt.scatter(df['Polarity'][i], df['Subjectivity'][i])\n",
    "plt.title('Sentiment Analysis Scatter Plot')\n",
    "plt.xlabel('Polarity')\n",
    "plt.ylabel('Subjectivity')\n",
    "plt.show()"
   ]
  },
  {
   "cell_type": "code",
   "execution_count": 17,
   "id": "3fb311bd",
   "metadata": {},
   "outputs": [
    {
     "data": {
      "image/png": "[encoded data removed]",
      "text/plain": [
       "<Figure size 360x288 with 1 Axes>"
      ]
     },
     "metadata": {
      "needs_background": "light"
     },
     "output_type": "display_data"
    }
   ],
   "source": [
    "plt.figure(figsize=(5,4))\n",
    "\n",
    "sns.countplot(x='Sentiment', data=df)\n",
    "plt.title('Sentiment')\n",
    "plt.title('Sentiment Analysis Bar Chart')\n",
    "plt.show()"
   ]
  }
 ],
 "metadata": {
  "kernelspec": {
   "display_name": "Python 3 (ipykernel)",
   "language": "python",
   "name": "python3"
  },
  "language_info": {
   "codemirror_mode": {
    "name": "ipython",
    "version": 3
   },
   "file_extension": ".py",
   "mimetype": "text/x-python",
   "name": "python",
   "nbconvert_exporter": "python",
   "pygments_lexer": "ipython3",
   "version": "3.9.12"
  }
 },
 "nbformat": 4,
 "nbformat_minor": 5
}
